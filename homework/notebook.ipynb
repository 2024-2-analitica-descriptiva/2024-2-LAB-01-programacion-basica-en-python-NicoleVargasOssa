{
 "cells": [
  {
   "cell_type": "code",
   "execution_count": 38,
   "metadata": {},
   "outputs": [
    {
     "data": {
      "text/plain": [
       "['E\\t1\\t1999-02-28\\tb,g,f\\tjjj:12,bbb:3,ddd:9,ggg:8,hhh:2\\n',\n",
       " 'A\\t2\\t1999-10-28\\ta,f,c\\tccc:2,ddd:0,aaa:3,hhh:9\\n',\n",
       " 'B\\t5\\t1998-05-02\\tf,e,a,c\\tddd:2,ggg:5,ccc:6,jjj:12\\n',\n",
       " 'A\\t3\\t1999-08-28\\ta,b\\thhh:9,iii:5,eee:7,bbb:1\\n',\n",
       " 'C\\t6\\t1999-12-01\\tf,g,d,a\\tiii:6,ddd:5,eee:4,jjj:12\\n',\n",
       " 'A\\t7\\t1998-07-28\\tc,d\\tbbb:2,hhh:0,ccc:4,fff:1,aaa:7\\n',\n",
       " 'A\\t9\\t1997-02-28\\tg,d,a\\taaa:5,fff:8,ddd:2,iii:0,jjj:7,ccc:1\\n',\n",
       " 'B\\t1\\t1999-05-10\\tb,a\\tfff:3,hhh:1,ddd:2\\n',\n",
       " 'E\\t2\\t1997-04-12\\td,e,a,f\\teee:4,ccc:5,iii:9,fff:7,ggg:6,bbb:2\\n',\n",
       " 'B\\t3\\t1999-11-23\\td,b,g,f\\tbbb:7,jjj:9,fff:5,iii:4,ggg:3,eee:3\\n',\n",
       " 'C\\t7\\t1998-01-17\\td,c,f,b\\thhh:6,eee:4,iii:0,fff:2,jjj:12\\n',\n",
       " 'C\\t5\\t1998-12-28\\td,e,a,c\\tbbb:7,iii:6,ggg:9\\n',\n",
       " 'D\\t3\\t1999-10-15\\tg,e,f,b\\tbbb:9,aaa:3,ccc:6,fff:4,eee:2\\n',\n",
       " 'E\\t8\\t1998-11-01\\tc,f\\taaa:8,ddd:5,jjj:12\\n',\n",
       " 'B\\t9\\t1999-08-12\\td,b\\tccc:7,jjj:6,fff:7,ddd:3,aaa:2\\n',\n",
       " 'D\\t8\\t1997-12-01\\tf,e\\tccc:8,eee:6,bbb:9,ddd:3\\n',\n",
       " 'E\\t3\\t1997-07-28\\te,b,f\\tbbb:6,iii:3,hhh:5,fff:4,ggg:9,ddd:2\\n',\n",
       " 'D\\t5\\t1998-08-12\\tg,a\\thhh:4,jjj:5,ccc:9\\n',\n",
       " 'E\\t8\\t1999-08-24\\te,c,f,a\\tccc:1,iii:6,fff:9\\n',\n",
       " 'E\\t9\\t1998-01-23\\te,a\\tbbb:9,aaa:3,fff:1\\n',\n",
       " 'E\\t7\\t1999-06-22\\te,f\\tddd:9,iii:2,aaa:4\\n',\n",
       " 'E\\t3\\t1999-04-24\\tc,b,g\\tccc:5,fff:8,iii:7\\n',\n",
       " 'D\\t5\\t1999-06-25\\tc,f,a\\teee:3,jjj:17,ddd:7\\n',\n",
       " 'A\\t9\\t1999-08-25\\tf,a,d\\tjjj:12,ggg:7,ccc:7,ddd:9,bbb:3\\n',\n",
       " 'E\\t4\\t1997-07-26\\tc,d\\tjjj:6,ccc:4,aaa:1,hhh:9,iii:7,ggg:8\\n',\n",
       " 'E\\t6\\t1997-09-24\\te,d,c\\tfff:3,eee:6,iii:4,bbb:7,ddd:4,ccc:1\\n',\n",
       " 'A\\t8\\t1997-09-28\\ta,e,f\\tfff:0,ddd:5,ccc:4\\n',\n",
       " 'E\\t5\\t1999-06-22\\tc,a,g\\tggg:6,hhh:3,ddd:9,ccc:10,jjj:7\\n',\n",
       " 'A\\t6\\t1999-07-29\\tf,e\\thhh:6,jjj:13,eee:5,iii:7,ccc:3\\n',\n",
       " 'C\\t0\\t1999-08-22\\tf,c,a,g\\teee:1,fff:4,aaa:2,ccc:7,ggg:10,ddd:6\\n',\n",
       " 'A\\t9\\t1998-04-26\\tb,f\\tccc:6,aaa:9,eee:5,ddd:0,bbb:3\\n',\n",
       " 'D\\t3\\t1998-02-24\\tb,f\\tbbb:7,hhh:1,aaa:6,iii:4,fff:9,ddd:5\\n',\n",
       " 'E\\t5\\t1999-03-24\\ta,c\\tfff:3,ccc:1,ggg:3,eee:5\\n',\n",
       " 'B\\t4\\t1998-03-23\\tb,f,c\\tiii:7,ggg:3,ddd:0,jjj:8,hhh:5,ccc:1\\n',\n",
       " 'B\\t6\\t1999-04-21\\tf,a,e\\thhh:6,ccc:3,jjj:9,bbb:8,ddd:7\\n',\n",
       " 'D\\t7\\t1999-02-29\\ta,f\\taaa:1,fff:5,ddd:3\\n',\n",
       " 'B\\t8\\t1997-05-21\\tc,a\\tddd:5,jjj:17,iii:7,ccc:10,bbb:4\\n',\n",
       " 'C\\t9\\t1997-07-22\\tc,a,e,f\\teee:3,fff:2,hhh:6\\n',\n",
       " 'E\\t1\\t1999-09-28\\te,d\\tfff:9,iii:2,eee:5\\n',\n",
       " 'E\\t5\\t1998-01-26\\tf,a,d\\thhh:8,ggg:3,jjj:5\\n']"
      ]
     },
     "execution_count": 2,
     "metadata": {},
     "output_type": "execute_result"
    }
   ],
   "source": [
    "#abrir archivo\n",
    "x = open('../files\\input\\data.csv','r').readlines()\n",
    "x"
   ]
  },
  {
   "cell_type": "code",
   "execution_count": 81,
   "metadata": {},
   "outputs": [
    {
     "data": {
      "text/plain": [
       "214"
      ]
     },
     "execution_count": 81,
     "metadata": {},
     "output_type": "execute_result"
    }
   ],
   "source": [
    "x = open(\"../files/input/data.csv\", \"r\").readlines()\n",
    "\n",
    "x = sum(int(linea.strip().split(\"\\t\")[1]) for linea in x)\n",
    "\n",
    "x\n",
    "\n"
   ]
  },
  {
   "cell_type": "code",
   "execution_count": 25,
   "metadata": {},
   "outputs": [
    {
     "data": {
      "text/plain": [
       "[('A', 8), ('B', 7), ('C', 5), ('D', 6), ('E', 14)]"
      ]
     },
     "execution_count": 25,
     "metadata": {},
     "output_type": "execute_result"
    }
   ],
   "source": [
    "#Retorne la cantidad de registros por cada letra de la primera columna como\n",
    "#la lista de tuplas (letra, cantidad), ordendas alfabéticamente.\n",
    "\n",
    "#Rta/     [('A', 8), ('B', 7), ('C', 5), ('D', 6), ('E', 14)]\n",
    "\n",
    "x = open(\"../files/input/data.csv\", \"r\").readlines()\n",
    "\n",
    "from collections import Counter\n",
    "\n",
    "contar = sorted(Counter(linea.split(\"\\t\")[0] for linea in x).items())\n",
    "contar\n",
    "\n"
   ]
  },
  {
   "cell_type": "code",
   "execution_count": 40,
   "metadata": {},
   "outputs": [
    {
     "name": "stdout",
     "output_type": "stream",
     "text": [
      "[('A', 53), ('B', 36), ('C', 27), ('D', 31), ('E', 67)]\n"
     ]
    }
   ],
   "source": [
    "\"\"\"\n",
    "    Retorne la suma de la columna 2 por cada letra de la primera columna como\n",
    "    una lista de tuplas (letra, suma) ordendas alfabeticamente.\n",
    "\n",
    "    Rta/\n",
    "    [('A', 53), ('B', 36), ('C', 27), ('D', 31), ('E', 67)]\n",
    "\n",
    "    \"\"\"\n",
    "x = open(\"../files/input/data.csv\", \"r\").readlines()\n",
    "x = [linea.strip().split(\"\\t\") for linea in x]\n",
    "\n",
    "def pregunta_03(): \n",
    "    diccionario = {}\n",
    "\n",
    "    for linea in x:\n",
    "        clave = linea[0]\n",
    "        valor = int(linea[1])\n",
    "\n",
    "        if clave in diccionario:\n",
    "            diccionario[clave] += valor\n",
    "        else:\n",
    "            diccionario[clave] = valor\n",
    "\n",
    "    orden = sorted(diccionario.items())\n",
    "    return orden\n",
    "print(pregunta_03())\n",
    "\n",
    "\n",
    "\n"
   ]
  },
  {
   "cell_type": "code",
   "execution_count": 80,
   "metadata": {},
   "outputs": [
    {
     "name": "stdout",
     "output_type": "stream",
     "text": [
      "[('01', 3), ('02', 4), ('03', 2), ('04', 4), ('05', 3), ('06', 3), ('07', 5), ('08', 6), ('09', 3), ('10', 2), ('11', 2), ('12', 3)]\n"
     ]
    }
   ],
   "source": [
    "\"\"\"\n",
    "    La columna 3 contiene una fecha en formato `YYYY-MM-DD`. Retorne la\n",
    "    cantidad de registros por cada mes, tal como se muestra a continuación.\n",
    "\n",
    "    Rta/\n",
    "    [('01', 3),\n",
    "     ('02', 4),\n",
    "     ('03', 2),\n",
    "     ('04', 4),\n",
    "     ('05', 3),\n",
    "     ('06', 3),\n",
    "     ('07', 5),\n",
    "     ('08', 6),\n",
    "     ('09', 3),\n",
    "     ('10', 2),\n",
    "     ('11', 2),\n",
    "     ('12', 3)]\n",
    "\n",
    "    \"\"\"\n",
    "x = open(\"../files/input/data.csv\", \"r\").readlines()\n",
    "x = [linea.strip().split(\"\\t\") for linea in x]\n",
    "x = [linea[2].split(\"-\")[1] for linea in x]\n",
    "\n",
    "from collections import Counter\n",
    "\n",
    "def pregunta_04():\n",
    "    return sorted(Counter(x).items())\n",
    "print(pregunta_04())\n",
    "\n",
    "#contar = sorted(Counter(linea + (linea[2].split(\"-\")[1]) for linea in x).items())\n",
    "#contar"
   ]
  },
  {
   "cell_type": "code",
   "execution_count": 96,
   "metadata": {},
   "outputs": [
    {
     "data": {
      "text/plain": [
       "[('E', 9, 1), ('A', 9, 2), ('B', 9, 1), ('D', 8, 3), ('C', 9, 0)]"
      ]
     },
     "execution_count": 96,
     "metadata": {},
     "output_type": "execute_result"
    }
   ],
   "source": [
    "\"\"\"\n",
    "    Retorne una lista de tuplas con el valor maximo y minimo de la columna 2\n",
    "    por cada letra de la columa 1.\n",
    "\n",
    "    Rta/\n",
    "    [('A', 9, 2), ('B', 9, 1), ('C', 9, 0), ('D', 8, 3), ('E', 9, 1)]\n",
    "\n",
    "    \"\"\"\n",
    "x = open(\"../files/input/data.csv\", \"r\").readlines()\n",
    "x = [linea.strip().split(\"\\t\") for linea in x]\n",
    "\n",
    "tupla=list(set(linea[0] for linea in x))\n",
    "tupla= [(linea,max([int(n[1]) for n in x  if n[0] == linea]),min([int(n[1]) for n in x if n[0] == linea])) for linea in tupla]\n",
    "tupla\n",
    "\n",
    "\n"
   ]
  },
  {
   "cell_type": "code",
   "execution_count": 117,
   "metadata": {},
   "outputs": [
    {
     "name": "stdout",
     "output_type": "stream",
     "text": [
      "[('aaa', 1, 9), ('bbb', 1, 9), ('ccc', 1, 10), ('ddd', 0, 9), ('eee', 1, 7), ('fff', 0, 9), ('ggg', 3, 10), ('hhh', 0, 9), ('iii', 0, 9), ('jjj', 5, 17)]\n"
     ]
    }
   ],
   "source": [
    "\"\"\"\n",
    "    La columna 5 codifica un diccionario donde cada cadena de tres letras\n",
    "    corresponde a una clave y el valor despues del caracter `:` corresponde al\n",
    "    valor asociado a la clave. Por cada clave, obtenga el valor asociado mas\n",
    "    pequeño y el valor asociado mas grande computados sobre todo el archivo.\n",
    "\n",
    "    Rta/\n",
    "    [('aaa', 1, 9),\n",
    "     ('bbb', 1, 9),\n",
    "     ('ccc', 1, 10),\n",
    "     ('ddd', 0, 9),\n",
    "     ('eee', 1, 7),\n",
    "     ('fff', 0, 9),\n",
    "     ('ggg', 3, 10),\n",
    "     ('hhh', 0, 9),\n",
    "     ('iii', 0, 9),\n",
    "     ('jjj', 5, 17)]\n",
    "\n",
    "    \"\"\"\n",
    "def pregunta_06():\n",
    "    x = open(\"../files/input/data.csv\", \"r\").readlines()\n",
    "    x = [linea.strip().split(\"\\t\")[4] for linea in x]\n",
    "\n",
    "    diccionario = {}\n",
    "\n",
    "    for linea in x:\n",
    "        lista = linea.split(\",\")\n",
    "\n",
    "        for  dupla in lista:\n",
    "            x = clave,valor = dupla.split(\":\")\n",
    "            valor = int(valor)\n",
    "        \n",
    "            if clave in diccionario:\n",
    "                diccionario[clave] = (min(diccionario[clave][0], valor), max(diccionario[clave][1], valor))\n",
    "            else:\n",
    "                diccionario[clave] = (valor, valor)\n",
    "    resultado = [(clave, min_val, max_val) for clave, (min_val, max_val) in diccionario.items()]\n",
    "    resultado.sort()\n",
    "\n",
    "    return resultado \n",
    "print(pregunta_06())   \n",
    "        \n",
    "\n",
    "\n"
   ]
  },
  {
   "cell_type": "code",
   "execution_count": 138,
   "metadata": {},
   "outputs": [
    {
     "name": "stdout",
     "output_type": "stream",
     "text": [
      "[(0, ['C']), (1, ['E', 'B', 'E']), (2, ['A', 'E']), (3, ['A', 'B', 'D', 'E', 'E', 'D']), (4, ['E', 'B']), (5, ['B', 'C', 'D', 'D', 'E', 'E', 'E']), (6, ['C', 'E', 'A', 'B']), (7, ['A', 'C', 'E', 'D']), (8, ['E', 'D', 'E', 'A', 'B']), (9, ['A', 'B', 'E', 'A', 'A', 'C'])]\n"
     ]
    }
   ],
   "source": [
    "\"\"\"\n",
    "    Retorne una lista de tuplas que asocien las columnas 0 y 1. Cada tupla\n",
    "    contiene un valor posible de la columna 2 y una lista con todas las letras\n",
    "    asociadas (columna 1) a dicho valor de la columna 2.\n",
    "\n",
    "    Rta/\n",
    "    [(0, ['C']),\n",
    "     (1, ['E', 'B', 'E']),\n",
    "     (2, ['A', 'E']),\n",
    "     (3, ['A', 'B', 'D', 'E', 'E', 'D']),\n",
    "     (4, ['E', 'B']),\n",
    "     (5, ['B', 'C', 'D', 'D', 'E', 'E', 'E']),\n",
    "     (6, ['C', 'E', 'A', 'B']),\n",
    "     (7, ['A', 'C', 'E', 'D']),\n",
    "     (8, ['E', 'D', 'E', 'A', 'B']),\n",
    "     (9, ['A', 'B', 'E', 'A', 'A', 'C'])]\n",
    "\n",
    "    \"\"\"\n",
    "\n",
    "\n",
    "x = open(\"../files/input/data.csv\", \"r\").readlines()\n",
    "x = [linea.strip().split(\"\\t\") for linea in x]\n",
    "\n",
    "def pregunta_07():\n",
    "    tupla=list(set(z[1] for z in x))\n",
    "    lista = list( (int(n) ,list(t[0] for t in x if t[1]==n)) for n in tupla)\n",
    "    return sorted(lista)\n",
    "print(pregunta_07())"
   ]
  },
  {
   "cell_type": "code",
   "execution_count": 142,
   "metadata": {},
   "outputs": [
    {
     "name": "stdout",
     "output_type": "stream",
     "text": [
      "[('0', ['C']), ('1', ['B', 'E']), ('2', ['A', 'E']), ('3', ['A', 'B', 'D', 'E']), ('4', ['B', 'E']), ('5', ['B', 'C', 'D', 'E']), ('6', ['A', 'B', 'C', 'E']), ('7', ['A', 'C', 'D', 'E']), ('8', ['A', 'B', 'D', 'E']), ('9', ['A', 'B', 'C', 'E'])]\n"
     ]
    }
   ],
   "source": [
    "\"\"\"\n",
    "    Genere una lista de tuplas, donde el primer elemento de cada tupla\n",
    "    contiene  el valor de la segunda columna; la segunda parte de la tupla\n",
    "    es una lista con las letras (ordenadas y sin repetir letra) de la\n",
    "    primera  columna que aparecen asociadas a dicho valor de la segunda\n",
    "    columna.\n",
    "\n",
    "    Rta/\n",
    "    [(0, ['C']),\n",
    "     (1, ['B', 'E']),\n",
    "     (2, ['A', 'E']),\n",
    "     (3, ['A', 'B', 'D', 'E']),\n",
    "     (4, ['B', 'E']),\n",
    "     (5, ['B', 'C', 'D', 'E']),\n",
    "     (6, ['A', 'B', 'C', 'E']),\n",
    "     (7, ['A', 'C', 'D', 'E']),\n",
    "     (8, ['A', 'B', 'D', 'E']),\n",
    "     (9, ['A', 'B', 'C', 'E'])]\n",
    "\n",
    "    \"\"\"\n",
    "x = open(\"../files/input/data.csv\", \"r\").readlines()\n",
    "x = [linea.strip().split(\"\\t\") for linea in x]\n",
    "\n",
    "def pregunta_08():\n",
    "    tupla = list(set(y[1] for y in x))\n",
    "\n",
    "    lista = []\n",
    "\n",
    "    for n in tupla:\n",
    "        columna0 = set()\n",
    "        for y in x:\n",
    "            if y[1] == n:\n",
    "                columna0.add(y[0]) \n",
    "        columna0 = sorted(list(columna0))\n",
    "        lista.append((n, columna0))\n",
    "\n",
    "    lista = sorted(lista)\n",
    "    return lista\n",
    "\n",
    "print(pregunta_08())\n",
    "\n",
    "\n"
   ]
  },
  {
   "cell_type": "code",
   "execution_count": null,
   "metadata": {},
   "outputs": [
    {
     "name": "stdout",
     "output_type": "stream",
     "text": [
      "{'aaa': 13, 'bbb': 16, 'ccc': 23, 'ddd': 23, 'eee': 15, 'fff': 20, 'ggg': 13, 'hhh': 16, 'iii': 18, 'jjj': 18}\n"
     ]
    }
   ],
   "source": [
    "\"\"\"\n",
    "    Retorne un diccionario que contenga la cantidad de registros en que\n",
    "    aparece cada clave de la columna 5.\n",
    "\n",
    "    Rta/\n",
    "    {'aaa': 13,\n",
    "     'bbb': 16,\n",
    "     'ccc': 23,\n",
    "     'ddd': 23,\n",
    "     'eee': 15,\n",
    "     'fff': 20,\n",
    "     'ggg': 13,\n",
    "     'hhh': 16,\n",
    "     'iii': 18,\n",
    "     'jjj': 18}}\n",
    "\n",
    "    \"\"\"\n",
    "\n",
    "def pregunta_09():\n",
    "    x = open(\"../files/input/data.csv\", \"r\").readlines()\n",
    "    x = [linea.strip().split(\"\\t\")[4] for linea in x]\n",
    "\n",
    "    diccionario = {}\n",
    "\n",
    "    for linea in x:\n",
    "        lista = linea.split(\",\")\n",
    "\n",
    "        for dupla in lista:\n",
    "            clave, valor = dupla.split(\":\")\n",
    "            if clave in diccionario:\n",
    "                diccionario[clave] += 1\n",
    "            else:\n",
    "                diccionario[clave] = 1\n",
    "\n",
    "    dicc = dict(sorted(diccionario.items()))\n",
    "\n",
    "    return dicc\n",
    "\n",
    "print(pregunta_09())"
   ]
  },
  {
   "cell_type": "code",
   "execution_count": 155,
   "metadata": {},
   "outputs": [
    {
     "name": "stdout",
     "output_type": "stream",
     "text": [
      "[('E', 3, 5), ('A', 3, 4), ('B', 4, 4), ('A', 2, 4), ('C', 4, 4), ('A', 2, 5), ('A', 3, 6), ('B', 2, 3), ('E', 4, 6), ('B', 4, 6), ('C', 4, 5), ('C', 4, 3), ('D', 4, 5), ('E', 2, 3), ('B', 2, 5), ('D', 2, 4), ('E', 3, 6), ('D', 2, 3), ('E', 4, 3), ('E', 2, 3), ('E', 2, 3), ('E', 3, 3), ('D', 3, 3), ('A', 3, 5), ('E', 2, 6), ('E', 3, 6), ('A', 3, 3), ('E', 3, 5), ('A', 2, 5), ('C', 4, 6), ('A', 2, 5), ('D', 2, 6), ('E', 2, 4), ('B', 3, 6), ('B', 3, 5), ('D', 2, 3), ('B', 2, 5), ('C', 4, 3), ('E', 2, 3), ('E', 3, 3)]\n"
     ]
    }
   ],
   "source": [
    "\"\"\"\n",
    "    Retorne una lista de tuplas contengan por cada tupla, la letra de la\n",
    "    columna 1 y la cantidad de elementos de las columnas 4 y 5.\n",
    "\n",
    "    Rta/\n",
    "    [('E', 3, 5),\n",
    "     ('A', 3, 4),\n",
    "     ...\n",
    "     ('E', 2, 3),\n",
    "     ('E', 3, 3)]\n",
    "\n",
    "\n",
    "    \"\"\"\n",
    "x = open(\"../files/input/data.csv\", \"r\").readlines()\n",
    "def pregunta_10():\n",
    "    tupla = []  # Inicializar la lista vacía\n",
    "    for linea in x:\n",
    "        sublistas = linea.strip().split(\"\\t\")\n",
    "        columna1 = sublistas[0]\n",
    "        columna4 = len(sublistas[3].split(\",\"))\n",
    "        columna5 = len(sublistas[4].split(\",\"))\n",
    "\n",
    "        tupla.append((columna1, columna4, columna5))\n",
    "    return tupla\n",
    "\n",
    "print(pregunta_10())\n"
   ]
  },
  {
   "cell_type": "code",
   "execution_count": 156,
   "metadata": {},
   "outputs": [
    {
     "data": {
      "text/plain": [
       "[['E', '1', '1999-02-28', 'b,g,f', 'jjj:12,bbb:3,ddd:9,ggg:8,hhh:2'],\n",
       " ['A', '2', '1999-10-28', 'a,f,c', 'ccc:2,ddd:0,aaa:3,hhh:9'],\n",
       " ['B', '5', '1998-05-02', 'f,e,a,c', 'ddd:2,ggg:5,ccc:6,jjj:12'],\n",
       " ['A', '3', '1999-08-28', 'a,b', 'hhh:9,iii:5,eee:7,bbb:1'],\n",
       " ['C', '6', '1999-12-01', 'f,g,d,a', 'iii:6,ddd:5,eee:4,jjj:12'],\n",
       " ['A', '7', '1998-07-28', 'c,d', 'bbb:2,hhh:0,ccc:4,fff:1,aaa:7'],\n",
       " ['A', '9', '1997-02-28', 'g,d,a', 'aaa:5,fff:8,ddd:2,iii:0,jjj:7,ccc:1'],\n",
       " ['B', '1', '1999-05-10', 'b,a', 'fff:3,hhh:1,ddd:2'],\n",
       " ['E', '2', '1997-04-12', 'd,e,a,f', 'eee:4,ccc:5,iii:9,fff:7,ggg:6,bbb:2'],\n",
       " ['B', '3', '1999-11-23', 'd,b,g,f', 'bbb:7,jjj:9,fff:5,iii:4,ggg:3,eee:3'],\n",
       " ['C', '7', '1998-01-17', 'd,c,f,b', 'hhh:6,eee:4,iii:0,fff:2,jjj:12'],\n",
       " ['C', '5', '1998-12-28', 'd,e,a,c', 'bbb:7,iii:6,ggg:9'],\n",
       " ['D', '3', '1999-10-15', 'g,e,f,b', 'bbb:9,aaa:3,ccc:6,fff:4,eee:2'],\n",
       " ['E', '8', '1998-11-01', 'c,f', 'aaa:8,ddd:5,jjj:12'],\n",
       " ['B', '9', '1999-08-12', 'd,b', 'ccc:7,jjj:6,fff:7,ddd:3,aaa:2'],\n",
       " ['D', '8', '1997-12-01', 'f,e', 'ccc:8,eee:6,bbb:9,ddd:3'],\n",
       " ['E', '3', '1997-07-28', 'e,b,f', 'bbb:6,iii:3,hhh:5,fff:4,ggg:9,ddd:2'],\n",
       " ['D', '5', '1998-08-12', 'g,a', 'hhh:4,jjj:5,ccc:9'],\n",
       " ['E', '8', '1999-08-24', 'e,c,f,a', 'ccc:1,iii:6,fff:9'],\n",
       " ['E', '9', '1998-01-23', 'e,a', 'bbb:9,aaa:3,fff:1'],\n",
       " ['E', '7', '1999-06-22', 'e,f', 'ddd:9,iii:2,aaa:4'],\n",
       " ['E', '3', '1999-04-24', 'c,b,g', 'ccc:5,fff:8,iii:7'],\n",
       " ['D', '5', '1999-06-25', 'c,f,a', 'eee:3,jjj:17,ddd:7'],\n",
       " ['A', '9', '1999-08-25', 'f,a,d', 'jjj:12,ggg:7,ccc:7,ddd:9,bbb:3'],\n",
       " ['E', '4', '1997-07-26', 'c,d', 'jjj:6,ccc:4,aaa:1,hhh:9,iii:7,ggg:8'],\n",
       " ['E', '6', '1997-09-24', 'e,d,c', 'fff:3,eee:6,iii:4,bbb:7,ddd:4,ccc:1'],\n",
       " ['A', '8', '1997-09-28', 'a,e,f', 'fff:0,ddd:5,ccc:4'],\n",
       " ['E', '5', '1999-06-22', 'c,a,g', 'ggg:6,hhh:3,ddd:9,ccc:10,jjj:7'],\n",
       " ['A', '6', '1999-07-29', 'f,e', 'hhh:6,jjj:13,eee:5,iii:7,ccc:3'],\n",
       " ['C', '0', '1999-08-22', 'f,c,a,g', 'eee:1,fff:4,aaa:2,ccc:7,ggg:10,ddd:6'],\n",
       " ['A', '9', '1998-04-26', 'b,f', 'ccc:6,aaa:9,eee:5,ddd:0,bbb:3'],\n",
       " ['D', '3', '1998-02-24', 'b,f', 'bbb:7,hhh:1,aaa:6,iii:4,fff:9,ddd:5'],\n",
       " ['E', '5', '1999-03-24', 'a,c', 'fff:3,ccc:1,ggg:3,eee:5'],\n",
       " ['B', '4', '1998-03-23', 'b,f,c', 'iii:7,ggg:3,ddd:0,jjj:8,hhh:5,ccc:1'],\n",
       " ['B', '6', '1999-04-21', 'f,a,e', 'hhh:6,ccc:3,jjj:9,bbb:8,ddd:7'],\n",
       " ['D', '7', '1999-02-29', 'a,f', 'aaa:1,fff:5,ddd:3'],\n",
       " ['B', '8', '1997-05-21', 'c,a', 'ddd:5,jjj:17,iii:7,ccc:10,bbb:4'],\n",
       " ['C', '9', '1997-07-22', 'c,a,e,f', 'eee:3,fff:2,hhh:6'],\n",
       " ['E', '1', '1999-09-28', 'e,d', 'fff:9,iii:2,eee:5'],\n",
       " ['E', '5', '1998-01-26', 'f,a,d', 'hhh:8,ggg:3,jjj:5']]"
      ]
     },
     "execution_count": 156,
     "metadata": {},
     "output_type": "execute_result"
    }
   ],
   "source": [
    "\"\"\"\n",
    "    Retorne un diccionario que contengan la suma de la columna 2 para cada\n",
    "    letra de la columna 4, ordenadas alfabeticamente.\n",
    "\n",
    "    Rta/\n",
    "    {'a': 122, 'b': 49, 'c': 91, 'd': 73, 'e': 86, 'f': 134, 'g': 35}\n",
    "\n",
    "\n",
    "    \"\"\"\n",
    "#def pregunta_11():\n",
    "\n",
    "x = open(\"../files/input/data.csv\", \"r\").readlines()\n",
    "sublista = [linea.strip().split(\"\\t\") for linea in x]\n",
    "\n",
    "diccionario = {}\n",
    "for i in x:\n",
    "    sublista"
   ]
  },
  {
   "cell_type": "code",
   "execution_count": 157,
   "metadata": {},
   "outputs": [
    {
     "name": "stdout",
     "output_type": "stream",
     "text": [
      "{'a': 122, 'b': 49, 'c': 91, 'd': 73, 'e': 86, 'f': 134, 'g': 35}\n"
     ]
    }
   ],
   "source": [
    "\"\"\"\n",
    "    Retorne un diccionario que contengan la suma de la columna 2 para cada\n",
    "    letra de la columna 4, ordenadas alfabeticamente.\n",
    "\n",
    "    Rta/\n",
    "    {'a': 122, 'b': 49, 'c': 91, 'd': 73, 'e': 86, 'f': 134, 'g': 35}\n",
    "\n",
    "\n",
    "    \"\"\"\n",
    "x = open(\"../files/input/data.csv\", \"r\").readlines()\n",
    "\n",
    "def pregunta_11():\n",
    "    diccionario = {}\n",
    "    for linea in x:\n",
    "        sublistas = linea.strip().split(\"\\t\")\n",
    "        columna2 = int(sublistas[1]) \n",
    "        \n",
    "        columna4 = sublistas[3].split(\",\")  \n",
    "        for i in columna4:\n",
    "            if i in diccionario:\n",
    "                diccionario[i] += columna2\n",
    "            else:\n",
    "                diccionario[i] = columna2\n",
    "\n",
    "    dicc = dict(sorted(diccionario.items()))\n",
    "    return dicc\n",
    "\n",
    "print(pregunta_11())\n"
   ]
  },
  {
   "cell_type": "code",
   "execution_count": null,
   "metadata": {},
   "outputs": [],
   "source": [
    "\"\"\"\n",
    "    Genere un diccionario que contengan como clave la columna 1 y como valor\n",
    "    la suma de los valores de la columna 5 sobre todo el archivo.\n",
    "\n",
    "    Rta/\n",
    "    {'A': 177, 'B': 187, 'C': 114, 'D': 136, 'E': 324}\n",
    "\n",
    "    \"\"\"\n",
    "def pregunta_12():\n",
    "    diccionario = {}\n",
    "    for linea in x:\n",
    "        sublistas = linea.strip().split(\"\\t\")\n",
    "        columna1 = sublistas[0]\n",
    "        \n",
    "        columna4 = sublistas[3].split(\",\")  \n",
    "        for i in columna4:\n",
    "            if i in diccionario:\n",
    "                diccionario[i] += columna2\n",
    "            else:\n",
    "                diccionario[i] = columna2\n",
    "\n",
    "    dicc = dict(sorted(diccionario.items()))\n",
    "    return dicc\n",
    "\n",
    "print(pregunta_12())\n"
   ]
  },
  {
   "cell_type": "code",
   "execution_count": 167,
   "metadata": {},
   "outputs": [
    {
     "name": "stdout",
     "output_type": "stream",
     "text": [
      "{'A': 177, 'B': 187, 'C': 114, 'D': 136, 'E': 324}\n"
     ]
    }
   ],
   "source": [
    "\"\"\"\n",
    "    Genere un diccionario que contengan como clave la columna 1 y como valor\n",
    "    la suma de los valores de la columna 5 sobre todo el archivo.\n",
    "\n",
    "    Rta/\n",
    "    {'A': 177, 'B': 187, 'C': 114, 'D': 136, 'E': 324}\n",
    "\n",
    "    \"\"\"\n",
    "\n",
    "x = open(\"../files/input/data.csv\", \"r\").readlines()\n",
    "x = [linea.strip().split(\"\\t\") for linea in x]\n",
    "\n",
    "def pregunta_12():\n",
    "    diccionario = {}\n",
    "\n",
    "    for linea in x:\n",
    "        columna1 = linea[0]  \n",
    "        columna5 = linea[4]  \n",
    "        valores = columna5.split(\",\")  \n",
    "        suma = sum(int(v.split(\":\")[1]) for v in valores)  \n",
    "    \n",
    "        if columna1 not in diccionario:\n",
    "            diccionario[columna1] = 0\n",
    "        diccionario[columna1] += suma \n",
    "\n",
    "    dicc = dict(sorted(diccionario.items()))\n",
    "    return dicc \n",
    "\n",
    "print(pregunta_12())\n"
   ]
  }
 ],
 "metadata": {
  "kernelspec": {
   "display_name": ".venv",
   "language": "python",
   "name": "python3"
  },
  "language_info": {
   "codemirror_mode": {
    "name": "ipython",
    "version": 3
   },
   "file_extension": ".py",
   "mimetype": "text/x-python",
   "name": "python",
   "nbconvert_exporter": "python",
   "pygments_lexer": "ipython3",
   "version": "3.10.9"
  }
 },
 "nbformat": 4,
 "nbformat_minor": 2
}
